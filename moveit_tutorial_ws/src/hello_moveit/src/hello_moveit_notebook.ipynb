{
 "cells": [
  {
   "cell_type": "markdown",
   "metadata": {},
   "source": [
    "ros2 launch moveit2_tutorials jupyter_notebook_prototyping.launch.py start_servo:=false\n",
    "\n",
    "The above is for a seperate terminal"
   ]
  },
  {
   "cell_type": "code",
   "execution_count": null,
   "metadata": {},
   "outputs": [],
   "source": []
  }
 ],
 "metadata": {
  "language_info": {
   "name": "python"
  }
 },
 "nbformat": 4,
 "nbformat_minor": 2
}
